{
  "nbformat": 4,
  "nbformat_minor": 0,
  "metadata": {
    "colab": {
      "provenance": []
    },
    "kernelspec": {
      "name": "python3",
      "display_name": "Python 3"
    },
    "language_info": {
      "name": "python"
    }
  },
  "cells": [
    {
      "cell_type": "markdown",
      "source": [
        "#Questions & Answers[THEORY]\n"
      ],
      "metadata": {
        "id": "3AFUq69Z2Rta"
      }
    },
    {
      "cell_type": "markdown",
      "source": [
        "**Q1-What are data structures, and why are they important?**\n",
        "  >Data structures are ways to organize and store data in a computer so it can be used efficiently. They define how data is arranged, accessed, and manipulated, like arrays, linked lists, stacks, queues, trees, graphs, and hash tables. Each structure suits specific tasks; for example, arrays are great for quick access, while trees excel in hierarchical data or searching.\n"
      ],
      "metadata": {
        "id": "A2gWKb4z3VUc"
      }
    },
    {
      "cell_type": "markdown",
      "source": [
        "**Q2-Explain the difference between mutable and immutable data types with examples?**\n",
        "> Mutable Data Types:\n",
        "\n",
        "  Definition: Mutable data types can be changed after creation. You can modify their content or structure without creating a new object.\n",
        "  \n",
        "  Key Characteristics:\n",
        "   \n",
        "    >Changes affect the same object in memory.\n",
        "    \n",
        "    >Useful when you need to update data frequently.\n",
        "\n",
        "Examples:\n",
        "*   **Lists (Python)**: my_list = [1, 2, 3]; my_list[0] = 4 → my_list becomes [4, 2, 3].\n",
        "*   **Dictionaries (Python)**: my_dict = {'a': 1}; my_dict['a'] = 2 → my_dict becomes {'a': 2}.\n",
        "*   **Arrays (JavaScript)**: let arr = [1, 2]; arr.push(3) → arr becomes [1, 2, 3]."
      ],
      "metadata": {
        "id": "kLuhkzSc4OZC"
      }
    },
    {
      "cell_type": "markdown",
      "source": [
        "**Q3-What are the main differences between lists and tuples in Python?**\n",
        "\n",
        "  >In Python, lists and tuples are sequence data structures that store collections of items, but they have key differences.\n",
        "*   List itemUse lists for flexible, mutable collections where elements may change.\n",
        "*   Use tuples for fixed, immutable collections where performance, memory efficiency, or data integrity matters.\n",
        "*   Both support indexing, slicing, and iteration, but lists offer more modification options, while tuples prioritize stability and speed."
      ],
      "metadata": {
        "id": "--q2NYlH4OWi"
      }
    },
    {
      "cell_type": "markdown",
      "source": [
        "**Q4- Describe how dictionaries store data.**\n",
        ">In Python, dictionaries store data as a collection of key-value pairs, providing a flexible and efficient way to organize and retrieve data\n",
        "it is key-value pairs using a hash table for efficient access and modification. Their flexibility and speed make them essential for tasks requiring fast, key-based data retrieval and management."
      ],
      "metadata": {
        "id": "UnfOYVS_4OTi"
      }
    },
    {
      "cell_type": "markdown",
      "source": [
        "**Q5-Why might you use a set instead of a list in Python?**\n",
        "  >In Python, sets and lists are both used to store collections of items, but sets have unique properties that make them preferable in certain situations. Use a set instead of a list when you need unique elements, fast membership testing, or set operations, and when order or duplicates are not important. Sets are optimized for these tasks, offering better performance and cleaner code for specific use cases.\n",
        "  "
      ],
      "metadata": {
        "id": "XD4CqIOO4OQS"
      }
    },
    {
      "cell_type": "markdown",
      "source": [
        "**Q6-What is a string in Python, and how is it different from a list?**\n",
        "  >A string is a sequence of characters (e.g., letters, numbers, symbols) used to represent text.It is defined using single quotes ('), double quotes (\"), or triple quotes (''' or \"\"\" for multi-line strings).\n",
        "\n",
        "*   **Strings**: Immutable sequences of characters for text manipulation, with text-specific methods and efficient for fixed data.\n",
        "\n",
        "\n",
        "*   **Lists**: Mutable sequences for storing any data type, with flexible modification methods and suited for dynamic collections.\n",
        "\n",
        "Use strings for text-related tasks (e.g., formatting a message) and lists when you need a modifiable collection of items (e.g., a dynamic list of numbers or objects)."
      ],
      "metadata": {
        "id": "_vPUkqr44OHb"
      }
    },
    {
      "cell_type": "markdown",
      "source": [
        "**Q7- How do tuples ensure data integrity in Python?**\n",
        "  >In Python, tuples ensure data integrity primarily through their immutability, which prevents modifications to their contents after creation. This characteristic, along with other properties, makes tuples a reliable choice for protecting data in specific scenarios.\n",
        "Tuples ensure data integrity through their immutability, which prevents changes to their structure or elements, making them reliable for fixed data, dictionary keys, or thread-safe contexts. By using tuples with immutable elements, developers can enforce consistency, reduce bugs, and maintain predictable behavior, though care must be taken with mutable objects inside tuples to avoid compromising integrity."
      ],
      "metadata": {
        "id": "9PuvwfUy4N4R"
      }
    },
    {
      "cell_type": "markdown",
      "source": [
        "**Q8-What is a hash table, and how does it relate to dictionaries in Python?**\n",
        "  >A hash table (or hash map) is a data structure that stores data in key-value pairs, allowing for efficient retrieval, insertion, and deletion of data. It works by using a hash function to convert a key into an index (hash value) that points to a location in an array where the corresponding value is stored. A hash table is a data structure that uses a hash function to map keys to values for efficient O(1) operations. Python dictionaries are built on hash tables, using them to store key-value pairs with fast lookup, insertion, and deletion. The hash table’s hashing mechanism ensures that dictionary keys are unique and hashable, enabling rapid access and making dictionaries a powerful tool for data management in Python."
      ],
      "metadata": {
        "id": "8XN-rL4_78mn"
      }
    },
    {
      "cell_type": "markdown",
      "source": [
        "**Q9-Can lists contain different data types in Python?**\n",
        "  >Yes, lists in Python can contain different data types. They are flexible and can store elements of any type, including integers, strings, floats, other lists, dictionaries, tuples, or even custom objects, all within the same list. This flexibility makes lists ideal for storing diverse data, such as user inputs, mixed collections, or nested structures, though it may require type checking when processing elements."
      ],
      "metadata": {
        "id": "VENxtsTF78j1"
      }
    },
    {
      "cell_type": "markdown",
      "source": [
        "**Q10-Explain why strings are immutable in Python.**\n",
        "  >Strings are immutable, meaning their content cannot be changed after they are created. This design choice is driven by several technical and practical reasons that enhance Python's performance, reliability, and usabilityStrings are immutable in Python to ensure hashability for dictionary keys and sets, memory efficiency through interning, thread safety in concurrent programs, performance via cached hash values, and data integrity for reliable text handling. This design choice aligns with Python’s philosophy of predictability and safety, making strings robust for tasks like identifiers, keys, or fixed data, Tasnim, while requiring developers to use efficient techniques for string modifications."
      ],
      "metadata": {
        "id": "QOVaggPj78gY"
      }
    },
    {
      "cell_type": "markdown",
      "source": [
        "**Q11-What advantages do dictionaries offer over lists for certain tasks?**\n",
        "  >Dictionaries and lists are both versatile data structures, but dictionaries offer distinct advantages over lists for certain tasks due to their key-value pair structure and hash table implementation. Dictionaries outperform lists for tasks involving key-based lookups, unique mappings, sparse data, or key-value relationships due to their O(1) efficiency, descriptive keys, and built-in methods. They are ideal for scenarios like mapping IDs to values, counting occurrences, or storing structured data, while lists are better for ordered, index-based, or duplicate-heavy collections. By leveraging hash tables, dictionaries provide speed and clarity for associative data tasks."
      ],
      "metadata": {
        "id": "2WIMFbtV78bx"
      }
    },
    {
      "cell_type": "markdown",
      "source": [
        "**Q12-Describe a scenario where using a tuple would be preferable over a list?**\n",
        "  >Context: Imagine you’re writing a Python program that connects to a database to retrieve user data. The database connection requires a set of fixed parameters: the host, port, and database name. These parameters should remain constant throughout the program’s execution to ensure consistent and reliable database access.\n",
        "\n",
        "**Immutability Ensures Data Integrity**:\n",
        "\n",
        "  1) The database configuration (host, port, db_name) should not change during runtime to avoid connection errors. A tuple’s immutability prevents accidental modifications.\n",
        "  \n",
        "  2) Example: If a developer tries to change db_config[0], a tuple raises a TypeError, catching the error early. A list would allow db_config[0] = \"new_host\", which could lead to incorrect connections.\n",
        "\n",
        "**Thread Safety**:\n",
        "\n",
        "  1) If the program uses multiple threads (e.g., one thread for database queries, another for logging), a tuple ensures the configuration is thread-safe. Since it cannot be modified, there’s no risk of one thread altering the config while another uses it.\n",
        "\n",
        "  2) A list, being mutable, could be changed by one thread, causing unpredictable behavior in others."
      ],
      "metadata": {
        "id": "QorFCa-E78ZC"
      }
    },
    {
      "cell_type": "markdown",
      "source": [
        "**Q13-How do sets handle duplicate values in Python?**\n",
        "  >Sets are designed to store unique elements and automatically handle duplicate values by ensuring that each element appears only once. Here’s how sets manage duplicates and the underlying mechanics. Python sets handle duplicate values by automatically eliminating them using a hash table, ensuring each element is unique. When an element is added, its hash and equality are checked; if it matches an existing element, it’s ignored. This makes sets highly efficient for tasks like deduplication, membership testing, and set operations, with O(1) average-case performance, unlike lists, which allow duplicates and require manual handling."
      ],
      "metadata": {
        "id": "5m35DVgx78XJ"
      }
    },
    {
      "cell_type": "markdown",
      "source": [
        "**Q14-How does the “in” keyword work differently for lists and dictionaries?**\n",
        "  >The in keyword works differently for lists and dictionaries due to their underlying structures:\n",
        "  \n",
        "     > For lists, in performs a linear search (O(n)) to check if an element exists, suitable for ordered collections with any data type.\n",
        "     > For dictionaries, in performs a hash-based lookup (O(1)) to check if a key exists, optimized for key-value mappings.\n",
        "     > Use lists when checking membership in sequences with possible duplicates, and dictionaries when checking for keys in large datasets where speed and key-based access are critical."
      ],
      "metadata": {
        "id": "DzUMR9iK78Ub"
      }
    },
    {
      "cell_type": "markdown",
      "source": [
        "**Q15-Can you modify the elements of a tuple? Explain why or why not.**\n",
        "  > You cannot modify the elements of a tuple after it is created because tuples are immutable. This means that once a tuple is defined, its elements, their order, and the tuple's structure cannot be changed—no additions, deletions, or updates to individual elements are allowed. Below, I’ll explain why tuples are immutable, the implications of this property, and a key nuance regarding mutable objects within tuples. Tuples in Python are immutable by design, preventing direct modification of their elements to ensure data integrity, hashability, thread safety, and performance optimization. This immutability means you cannot change a tuple’s elements, order, or size after creation. However, if a tuple contains mutable objects like ascites, those objects can be modified, requiring careful design to maintain full immutability. To modify a tuple, you must create a new tuple, aligning with its intended use as a fixed data structure."
      ],
      "metadata": {
        "id": "VN7hFJP378R0"
      }
    },
    {
      "cell_type": "markdown",
      "source": [
        "**Q16- What is a nested dictionary, and give an example of its use case?**\n",
        "  >A nested dictionary is a dictionary inside another dictionary. In Python, this allows you to represent complex hierarchical or structured data using key-value pairs, where the value itself can be another dictionary.  "
      ],
      "metadata": {
        "id": "8RhBHkgJ78Ow"
      }
    },
    {
      "cell_type": "code",
      "source": [
        "students = {\n",
        "    \"101\": {\n",
        "        \"name\": \"Alice\",\n",
        "        \"age\": 14,\n",
        "        \"grades\": {\n",
        "            \"Math\": 88,\n",
        "            \"English\": 92,\n",
        "            \"Science\": 85\n",
        "        }\n",
        "    },\n",
        "    \"102\": {\n",
        "        \"name\": \"Bob\",\n",
        "        \"age\": 15,\n",
        "        \"grades\": {\n",
        "            \"Math\": 78,\n",
        "            \"English\": 80,\n",
        "            \"Science\": 89\n",
        "        }\n",
        "    }\n",
        "}\n"
      ],
      "metadata": {
        "id": "kEwmlOP7AOER"
      },
      "execution_count": null,
      "outputs": []
    },
    {
      "cell_type": "markdown",
      "source": [
        "**Q17-Describe the time complexity of accessing elements in a dictionary?**\n",
        "  >Accessing an element in a Python dictionary (or a hash table in general) typically has a time complexity of O(1) on average. This means that the time it takes to retrieve a value associated with a key remains constant regardless of the dictionary's size."
      ],
      "metadata": {
        "id": "I6NLm6Ya77-6"
      }
    },
    {
      "cell_type": "markdown",
      "source": [
        "**Q18- In what situations are lists preferred over dictionaries?**\n",
        "  >Lists are preferred over dictionaries when the order of elements is crucial, when you need to store duplicate values, or when you need to iterate through elements sequentially using indices. Dictionaries, on the other hand, are favored for scenarios requiring quick lookups based on unique keys, data mapping, and situations where the order of elements is not important."
      ],
      "metadata": {
        "id": "dM5kGrmI7775"
      }
    },
    {
      "cell_type": "markdown",
      "source": [
        "**Q19-Why are dictionaries considered unordered, and how does that affect data retrieval?**\n",
        "  >Dictionary is a data structure which is a important value structure, optimized for fast storage and recovery based on key. In python, dictionaries are un-ordered because Python dictionaries are not intended to be in order, as simple as that.dictionaries are un-ordered because Python dictionaries are not intended to be in order, as simple as that. If we want to collect a set of objects in order, we have only one choice of accessing them: through index.\n"
      ],
      "metadata": {
        "id": "Z3OWeSI_BKKP"
      }
    },
    {
      "cell_type": "markdown",
      "source": [
        "**Q20- Explain the difference between a list and a dictionary in terms of data retrieval.**\n",
        "  >A list is an ordered collection of items, whereas a dictionary is an unordered data collection in a key: value pair. Elements from the list can be accessed using the index, while the elements of the dictionary can be accessed using keys."
      ],
      "metadata": {
        "id": "c4tMGtSjBKHJ"
      }
    },
    {
      "cell_type": "markdown",
      "source": [
        "#Questions & Answers[PRACTICALS]"
      ],
      "metadata": {
        "id": "pN8KARDTBKED"
      }
    },
    {
      "cell_type": "markdown",
      "source": [
        "**Q1-Write a code to create a string with your name and print it?**"
      ],
      "metadata": {
        "id": "IxX4Li66BKBR"
      }
    },
    {
      "cell_type": "code",
      "source": [
        "# Create a string with your name\n",
        "name = \"Sudhanshu Shukla\"\n",
        "\n",
        "# Print the string\n",
        "print(\"My name is:\", name)"
      ],
      "metadata": {
        "colab": {
          "base_uri": "https://localhost:8080/"
        },
        "id": "MTElqFUoCB2H",
        "outputId": "fcd647e3-621d-4af9-e7c5-1da034062cd3"
      },
      "execution_count": null,
      "outputs": [
        {
          "output_type": "stream",
          "name": "stdout",
          "text": [
            "My name is: Sudhanshu Shukla\n"
          ]
        }
      ]
    },
    {
      "cell_type": "markdown",
      "source": [
        "**Q2-Write a code to find the length of the string \"Hello World\"?**"
      ],
      "metadata": {
        "id": "Bkcp9iJRBJ-_"
      }
    },
    {
      "cell_type": "code",
      "source": [
        "text = \"Hello World\"\n",
        "length = len(text)\n",
        "print(\"Length of the string is:\", length)"
      ],
      "metadata": {
        "colab": {
          "base_uri": "https://localhost:8080/"
        },
        "id": "V11WzM7VCSt2",
        "outputId": "c1ac5310-38af-423c-dc1c-03998fd2ac0a"
      },
      "execution_count": null,
      "outputs": [
        {
          "output_type": "stream",
          "name": "stdout",
          "text": [
            "Length of the string is: 11\n"
          ]
        }
      ]
    },
    {
      "cell_type": "markdown",
      "source": [
        "**Q3-Write a code to slice the first 3 characters from the string \"Python Programming\".**"
      ],
      "metadata": {
        "id": "by-MSb11BJ8I"
      }
    },
    {
      "cell_type": "code",
      "source": [
        "text = \"Python Programming\"\n",
        "\n",
        "first_three = text[:3]\n",
        "\n",
        "\n",
        "print(\"First 3 characters:\", first_three)\n"
      ],
      "metadata": {
        "colab": {
          "base_uri": "https://localhost:8080/"
        },
        "id": "hqbcVZdeClF-",
        "outputId": "2220ba89-ed09-42f0-a4f1-db0d52d6f9a3"
      },
      "execution_count": null,
      "outputs": [
        {
          "output_type": "stream",
          "name": "stdout",
          "text": [
            "First 3 characters: Pyt\n"
          ]
        }
      ]
    },
    {
      "cell_type": "markdown",
      "source": [
        "**Q4-Write a code to convert the string \"hello\" to uppercase.**"
      ],
      "metadata": {
        "id": "Y5FIea24BJ35"
      }
    },
    {
      "cell_type": "code",
      "source": [
        "text = \"hello\"\n",
        "\n",
        "\n",
        "upper_text = text.upper()\n",
        "\n",
        "\n",
        "print(\"Uppercase:\", upper_text)\n"
      ],
      "metadata": {
        "colab": {
          "base_uri": "https://localhost:8080/"
        },
        "id": "RmpT9NzzC4K6",
        "outputId": "d1a0ab6c-dc95-4fe3-f598-178a6681e093"
      },
      "execution_count": null,
      "outputs": [
        {
          "output_type": "stream",
          "name": "stdout",
          "text": [
            "Uppercase: HELLO\n"
          ]
        }
      ]
    },
    {
      "cell_type": "markdown",
      "source": [
        "**Q5-Write a code to replace the word \"apple\" with \"orange\" in the string \"I like apple\".**"
      ],
      "metadata": {
        "id": "S5WEMEU5BJ1N"
      }
    },
    {
      "cell_type": "code",
      "source": [
        "\n",
        "text = \"I like apple\"\n",
        "\n",
        "new_text = text.replace(\"apple\", \"orange\")\n",
        "\n",
        "print(\"Updated string:\", new_text)\n"
      ],
      "metadata": {
        "colab": {
          "base_uri": "https://localhost:8080/"
        },
        "id": "jUoP3NrLDM7G",
        "outputId": "267f67b5-1e1a-4f1a-e75f-16e57a5953b1"
      },
      "execution_count": null,
      "outputs": [
        {
          "output_type": "stream",
          "name": "stdout",
          "text": [
            "Updated string: I like orange\n"
          ]
        }
      ]
    },
    {
      "cell_type": "markdown",
      "source": [
        "**Q6-Write a code to create a list with numbers 1 to 5 and print it.**"
      ],
      "metadata": {
        "id": "_hrdp_B5BJyo"
      }
    },
    {
      "cell_type": "code",
      "source": [
        "numbers = [1, 2, 3, 4, 5]\n",
        "\n",
        "print(\"List of numbers:\", numbers)\n"
      ],
      "metadata": {
        "colab": {
          "base_uri": "https://localhost:8080/"
        },
        "id": "_-bTTt9sDruK",
        "outputId": "752a0a79-365b-4ee5-b8e1-04cdf6358083"
      },
      "execution_count": null,
      "outputs": [
        {
          "output_type": "stream",
          "name": "stdout",
          "text": [
            "List of numbers: [1, 2, 3, 4, 5]\n"
          ]
        }
      ]
    },
    {
      "cell_type": "markdown",
      "source": [
        "**Q7-Write a code to append the number 10 to the list [1, 2, 3, 4].**"
      ],
      "metadata": {
        "id": "wiqJxkhNBJwC"
      }
    },
    {
      "cell_type": "code",
      "source": [
        "\n",
        "numbers = [1, 2, 3, 4]\n",
        "\n",
        "\n",
        "numbers.append(10)\n",
        "\n",
        "\n",
        "print(\"Updated list:\", numbers)\n"
      ],
      "metadata": {
        "colab": {
          "base_uri": "https://localhost:8080/"
        },
        "id": "UuoUOzy8D8j9",
        "outputId": "2d7819af-9d3b-4352-c655-5c8688015fc3"
      },
      "execution_count": null,
      "outputs": [
        {
          "output_type": "stream",
          "name": "stdout",
          "text": [
            "Updated list: [1, 2, 3, 4, 10]\n"
          ]
        }
      ]
    },
    {
      "cell_type": "markdown",
      "source": [
        "**Q8-Write a code to remove the number 3 from the list [1, 2, 3, 4, 5].**"
      ],
      "metadata": {
        "id": "PyBmjYdqBJt3"
      }
    },
    {
      "cell_type": "code",
      "source": [
        "numbers = [1, 2, 3, 4, 5]\n",
        "\n",
        "numbers.remove(3)\n",
        "\n",
        "print(\"Updated list:\", numbers)\n"
      ],
      "metadata": {
        "colab": {
          "base_uri": "https://localhost:8080/"
        },
        "id": "_cUPcsoNEJvh",
        "outputId": "c2ad5b70-0cd0-4b62-97ca-479285beb3ee"
      },
      "execution_count": null,
      "outputs": [
        {
          "output_type": "stream",
          "name": "stdout",
          "text": [
            "Updated list: [1, 2, 4, 5]\n"
          ]
        }
      ]
    },
    {
      "cell_type": "markdown",
      "source": [
        "**Q9-Write a code to access the second element in the list ['a', 'b', 'c', 'd'].**"
      ],
      "metadata": {
        "id": "hn1ll_BNBJrP"
      }
    },
    {
      "cell_type": "code",
      "source": [
        "letters = ['a', 'b', 'c', 'd']\n",
        "\n",
        "second_element = letters[1]\n",
        "\n",
        "print(\"Second element:\", second_element)\n"
      ],
      "metadata": {
        "colab": {
          "base_uri": "https://localhost:8080/"
        },
        "id": "IQ0I95npEZLn",
        "outputId": "446e37c3-ca41-40bf-e036-e0ed228e4f47"
      },
      "execution_count": null,
      "outputs": [
        {
          "output_type": "stream",
          "name": "stdout",
          "text": [
            "Second element: b\n"
          ]
        }
      ]
    },
    {
      "cell_type": "markdown",
      "source": [
        "**Q10-Write a code to reverse the list [10, 20, 30, 40, 50].**"
      ],
      "metadata": {
        "id": "LTp0DiLSEgEz"
      }
    },
    {
      "cell_type": "code",
      "source": [
        "numbers = [10, 20, 30, 40, 50]\n",
        "\n",
        "numbers.reverse()\n",
        "\n",
        "print(\"Reversed list:\", numbers)"
      ],
      "metadata": {
        "colab": {
          "base_uri": "https://localhost:8080/"
        },
        "id": "umv8L2l7EdmY",
        "outputId": "66033dd8-ab57-40ad-ae58-977a4d02f96c"
      },
      "execution_count": null,
      "outputs": [
        {
          "output_type": "stream",
          "name": "stdout",
          "text": [
            "Reversed list: [50, 40, 30, 20, 10]\n"
          ]
        }
      ]
    },
    {
      "cell_type": "markdown",
      "source": [
        "**Q11-Write a code to create a tuple with the elements 100, 200, 300 and print it.**"
      ],
      "metadata": {
        "id": "sLCaCanzEuUK"
      }
    },
    {
      "cell_type": "code",
      "source": [
        "my_tuple = (100, 200, 300)\n",
        "\n",
        "print(\"Tuple:\", my_tuple)"
      ],
      "metadata": {
        "colab": {
          "base_uri": "https://localhost:8080/"
        },
        "id": "9xBgr_3PE1gz",
        "outputId": "db046bf2-86d1-4b4a-fc89-670affd26d47"
      },
      "execution_count": null,
      "outputs": [
        {
          "output_type": "stream",
          "name": "stdout",
          "text": [
            "Tuple: (100, 200, 300)\n"
          ]
        }
      ]
    },
    {
      "cell_type": "markdown",
      "source": [
        "**Q12-Write a code to access the second-to-last element of the tuple ('red', 'green', 'blue', 'yellow').**"
      ],
      "metadata": {
        "id": "W8h6kYQ0E7mw"
      }
    },
    {
      "cell_type": "code",
      "source": [
        "colors = ('red', 'green', 'blue', 'yellow')\n",
        "\n",
        "second_last = colors[-2]\n",
        "\n",
        "print(\"Second-to-last element:\", second_last)"
      ],
      "metadata": {
        "colab": {
          "base_uri": "https://localhost:8080/"
        },
        "id": "jODos0sdFAEP",
        "outputId": "308f6853-340f-4f7c-bd0b-6b8bc1265717"
      },
      "execution_count": null,
      "outputs": [
        {
          "output_type": "stream",
          "name": "stdout",
          "text": [
            "Second-to-last element: blue\n"
          ]
        }
      ]
    },
    {
      "cell_type": "markdown",
      "source": [
        "**Q13-Write a code to find the minimum number in the tuple (10, 20, 5, 15).**"
      ],
      "metadata": {
        "id": "AmoJsZQ9FKxy"
      }
    },
    {
      "cell_type": "code",
      "source": [
        "numbers = (10, 20, 5, 15)\n",
        "\n",
        "min_value = min(numbers)\n",
        "\n",
        "print(\"Minimum number:\", min_value)\n"
      ],
      "metadata": {
        "colab": {
          "base_uri": "https://localhost:8080/"
        },
        "id": "pgzagBCNFOcf",
        "outputId": "9a1aac96-40f9-45ec-dcf8-2c195c40a017"
      },
      "execution_count": null,
      "outputs": [
        {
          "output_type": "stream",
          "name": "stdout",
          "text": [
            "Minimum number: 5\n"
          ]
        }
      ]
    },
    {
      "cell_type": "markdown",
      "source": [
        "**Q14-Write a code to find the index of the element \"cat\" in the tuple ('dog', 'cat', 'rabbit').**"
      ],
      "metadata": {
        "id": "G2kOh6Q0FVnc"
      }
    },
    {
      "cell_type": "code",
      "source": [
        "animals = ('dog', 'cat', 'rabbit')\n",
        "\n",
        "index_of_cat = animals.index('cat')\n",
        "\n",
        "print(\"Index of 'cat':\", index_of_cat)"
      ],
      "metadata": {
        "colab": {
          "base_uri": "https://localhost:8080/"
        },
        "id": "GiWavruSFZ6D",
        "outputId": "ebeec761-2147-4a9e-9a05-3840e7b9dc37"
      },
      "execution_count": null,
      "outputs": [
        {
          "output_type": "stream",
          "name": "stdout",
          "text": [
            "Index of 'cat': 1\n"
          ]
        }
      ]
    },
    {
      "cell_type": "markdown",
      "source": [
        "**Q15-Write a code to create a tuple containing three different fruits and check if \"kiwi\" is in it.**"
      ],
      "metadata": {
        "id": "yugeXt0TFjSW"
      }
    },
    {
      "cell_type": "code",
      "source": [
        "fruits = ('apple', 'banana', 'orange')\n",
        "\n",
        "if 'kiwi' in fruits:\n",
        "    print(\"Kiwi is in the tuple.\")\n",
        "else:\n",
        "    print(\"Kiwi is not in the tuple.\")\n"
      ],
      "metadata": {
        "colab": {
          "base_uri": "https://localhost:8080/"
        },
        "id": "gGE9kEV-FnBy",
        "outputId": "ef25dc76-1fb2-40ef-87d0-476960e4f5b7"
      },
      "execution_count": null,
      "outputs": [
        {
          "output_type": "stream",
          "name": "stdout",
          "text": [
            "Kiwi is not in the tuple.\n"
          ]
        }
      ]
    },
    {
      "cell_type": "markdown",
      "source": [
        "**Q16-Write a code to create a set with the elements 'a', 'b', 'c' and print it.**"
      ],
      "metadata": {
        "id": "takrY77XFvvP"
      }
    },
    {
      "cell_type": "code",
      "source": [
        "my_set = {'a', 'b', 'c'}\n",
        "\n",
        "print(\"Set:\", my_set)"
      ],
      "metadata": {
        "colab": {
          "base_uri": "https://localhost:8080/"
        },
        "id": "WONU_cPVF0XE",
        "outputId": "42e3f597-4fab-4de8-bf6b-9fbf4a90c5de"
      },
      "execution_count": null,
      "outputs": [
        {
          "output_type": "stream",
          "name": "stdout",
          "text": [
            "Set: {'b', 'a', 'c'}\n"
          ]
        }
      ]
    },
    {
      "cell_type": "markdown",
      "source": [
        "**Q17- Write a code to clear all elements from the set {1, 2, 3, 4, 5}.**"
      ],
      "metadata": {
        "id": "o-ChK3szF9gj"
      }
    },
    {
      "cell_type": "code",
      "source": [
        "numbers = {1, 2, 3, 4, 5}\n",
        "\n",
        "numbers.clear()\n",
        "\n",
        "print(\"Cleared set:\", numbers)\n"
      ],
      "metadata": {
        "colab": {
          "base_uri": "https://localhost:8080/"
        },
        "id": "U5ok_A_qGCWO",
        "outputId": "6d5ecf9f-b5f2-4af5-fd31-6223a08ad421"
      },
      "execution_count": null,
      "outputs": [
        {
          "output_type": "stream",
          "name": "stdout",
          "text": [
            "Cleared set: set()\n"
          ]
        }
      ]
    },
    {
      "cell_type": "markdown",
      "source": [
        "**Q18-Write a code to remove the element 4 from the set {1, 2, 3, 4}.**"
      ],
      "metadata": {
        "id": "R88ySMCJGLx6"
      }
    },
    {
      "cell_type": "code",
      "source": [
        "numbers = {1, 2, 3, 4, 5}\n",
        "\n",
        "numbers.remove(4)\n",
        "\n",
        "print(\"Cleared set:\", numbers)\n"
      ],
      "metadata": {
        "colab": {
          "base_uri": "https://localhost:8080/"
        },
        "id": "ioDUIA5-GSPZ",
        "outputId": "d1b69598-b4d3-43db-992a-878b3a1b1024"
      },
      "execution_count": null,
      "outputs": [
        {
          "output_type": "stream",
          "name": "stdout",
          "text": [
            "Cleared set: {1, 2, 3, 5}\n"
          ]
        }
      ]
    },
    {
      "cell_type": "markdown",
      "source": [
        "**Q19-Write a code to find the union of two sets {1, 2, 3} and {3, 4, 5}.**"
      ],
      "metadata": {
        "id": "55Cj8UocGmsX"
      }
    },
    {
      "cell_type": "code",
      "source": [
        "set1 = {1, 2, 3}\n",
        "set2 = {3, 4, 5}\n",
        "\n",
        "union_set = set1.union(set2)\n",
        "\n",
        "print(\"Union of sets:\", union_set)"
      ],
      "metadata": {
        "colab": {
          "base_uri": "https://localhost:8080/"
        },
        "id": "WycBGdFhGrAM",
        "outputId": "4753b3a4-dbc9-4676-c0f7-bb96f8333d25"
      },
      "execution_count": null,
      "outputs": [
        {
          "output_type": "stream",
          "name": "stdout",
          "text": [
            "Union of sets: {1, 2, 3, 4, 5}\n"
          ]
        }
      ]
    },
    {
      "cell_type": "markdown",
      "source": [
        "**Q20-Write a code to find the intersection of two sets {1, 2, 3} and {2, 3, 4}.**"
      ],
      "metadata": {
        "id": "0VfM6GStGxRJ"
      }
    },
    {
      "cell_type": "code",
      "source": [
        "set1 = {1, 2, 3}\n",
        "set2 = {2, 3, 4}\n",
        "\n",
        "intersection_set = set1.intersection(set2)\n",
        "\n",
        "print(\"Intersection of sets:\", intersection_set)\n"
      ],
      "metadata": {
        "colab": {
          "base_uri": "https://localhost:8080/"
        },
        "id": "3BnSg-8DG2Ge",
        "outputId": "cb7c8977-9459-4326-ac1a-c4574c3d2613"
      },
      "execution_count": null,
      "outputs": [
        {
          "output_type": "stream",
          "name": "stdout",
          "text": [
            "Intersection of sets: {2, 3}\n"
          ]
        }
      ]
    },
    {
      "cell_type": "markdown",
      "source": [
        "**Q21-Write a code to create a dictionary with the keys \"name\", \"age\", and \"city\", and print it.**"
      ],
      "metadata": {
        "id": "GvmR0yd8G9z6"
      }
    },
    {
      "cell_type": "code",
      "source": [
        "person = {\n",
        "    \"name\": \"Alice\",\n",
        "    \"age\": 25,\n",
        "    \"city\": \"New York\"\n",
        "}\n",
        "\n",
        "print(\"Dictionary:\", person)\n"
      ],
      "metadata": {
        "colab": {
          "base_uri": "https://localhost:8080/"
        },
        "id": "ZE00ZvVmHBeJ",
        "outputId": "554b3dd0-b191-4c95-e6b8-7719022cb55d"
      },
      "execution_count": null,
      "outputs": [
        {
          "output_type": "stream",
          "name": "stdout",
          "text": [
            "Dictionary: {'name': 'Alice', 'age': 25, 'city': 'New York'}\n"
          ]
        }
      ]
    },
    {
      "cell_type": "markdown",
      "source": [
        "**Q22- Write a code to add a new key-value pair \"country\": \"USA\" to the dictionary {'name': 'John', 'age': 25}..**"
      ],
      "metadata": {
        "id": "Sfx6vUm_HM4r"
      }
    },
    {
      "cell_type": "code",
      "source": [
        "person = {'name': 'John', 'age': 25}\n",
        "\n",
        "person['country'] = 'USA'\n",
        "\n",
        "print(\"Updated dictionary:\", person)\n"
      ],
      "metadata": {
        "colab": {
          "base_uri": "https://localhost:8080/"
        },
        "id": "W6ArKVjZHPHC",
        "outputId": "1342d3a4-b451-4d57-ad4e-e920f3d91f96"
      },
      "execution_count": null,
      "outputs": [
        {
          "output_type": "stream",
          "name": "stdout",
          "text": [
            "Updated dictionary: {'name': 'John', 'age': 25, 'country': 'USA'}\n"
          ]
        }
      ]
    },
    {
      "cell_type": "markdown",
      "source": [
        "**Q23-Write a code to access the value associated with the key \"name\" in the dictionary {'name': 'Alice', 'age': 30}..**"
      ],
      "metadata": {
        "id": "V30rd7rkHYlQ"
      }
    },
    {
      "cell_type": "code",
      "source": [
        "person = {'name': 'Alice', 'age': 30}\n",
        "\n",
        "name_value = person['name']\n",
        "\n",
        "print(\"Name:\", name_value)\n"
      ],
      "metadata": {
        "colab": {
          "base_uri": "https://localhost:8080/"
        },
        "id": "DyOATEo3Hbp0",
        "outputId": "a7d02999-f48f-4ac4-b856-57152dc5cae9"
      },
      "execution_count": null,
      "outputs": [
        {
          "output_type": "stream",
          "name": "stdout",
          "text": [
            "Name: Alice\n"
          ]
        }
      ]
    },
    {
      "cell_type": "markdown",
      "source": [
        "**Q24-Write a code to remove the key \"age\" from the dictionary {'name': 'Bob', 'age': 22, 'city': 'New York'}..**"
      ],
      "metadata": {
        "id": "1ZizPDKCHj5e"
      }
    },
    {
      "cell_type": "code",
      "source": [
        "person = {'name': 'Bob', 'age': 22, 'city': 'New York'}\n",
        "\n",
        "del person['age']\n",
        "\n",
        "print(\"Updated dictionary:\", person)\n"
      ],
      "metadata": {
        "colab": {
          "base_uri": "https://localhost:8080/"
        },
        "id": "cLRc5IO-HnzV",
        "outputId": "27d56221-319a-40e8-d9fd-e2c10cc297d3"
      },
      "execution_count": null,
      "outputs": [
        {
          "output_type": "stream",
          "name": "stdout",
          "text": [
            "Updated dictionary: {'name': 'Bob', 'city': 'New York'}\n"
          ]
        }
      ]
    },
    {
      "cell_type": "markdown",
      "source": [
        "**Q25-Write a code to check if the key \"city\" exists in the dictionary {'name': 'Alice', 'city': 'Paris'}.**"
      ],
      "metadata": {
        "id": "rRL4FUKpHurY"
      }
    },
    {
      "cell_type": "code",
      "source": [
        "person = {'name': 'Alice', 'city': 'Paris'}\n",
        "\n",
        "if 'city' in person:\n",
        "    print(\"The key 'city' exists in the dictionary.\")\n",
        "else:\n",
        "    print(\"The key 'city' does not exist in the dictionary.\")\n"
      ],
      "metadata": {
        "colab": {
          "base_uri": "https://localhost:8080/"
        },
        "id": "pGTjjccjH1D_",
        "outputId": "cf6fe1a7-7e2c-4fd8-f057-14a581e8bb1d"
      },
      "execution_count": null,
      "outputs": [
        {
          "output_type": "stream",
          "name": "stdout",
          "text": [
            "The key 'city' exists in the dictionary.\n"
          ]
        }
      ]
    },
    {
      "cell_type": "markdown",
      "source": [
        "**Q26-Write a code to create a list, a tuple, and a dictionary, and print them all.**"
      ],
      "metadata": {
        "id": "DrCphJIHH6WL"
      }
    },
    {
      "cell_type": "code",
      "source": [
        "my_list = [1, 2, 3, 4, 5]\n",
        "\n",
        "my_tuple = ('apple', 'banana', 'cherry')\n",
        "\n",
        "my_dict = {'name': 'Alice', 'age': 30, 'city': 'Paris'}\n",
        "\n",
        "print(\"List:\", my_list)\n",
        "print(\"Tuple:\", my_tuple)\n",
        "print(\"Dictionary:\", my_dict)\n"
      ],
      "metadata": {
        "colab": {
          "base_uri": "https://localhost:8080/"
        },
        "id": "D0f6oXUBICIZ",
        "outputId": "b6a41b1f-cd95-4ab5-e91b-4868b9446758"
      },
      "execution_count": null,
      "outputs": [
        {
          "output_type": "stream",
          "name": "stdout",
          "text": [
            "List: [1, 2, 3, 4, 5]\n",
            "Tuple: ('apple', 'banana', 'cherry')\n",
            "Dictionary: {'name': 'Alice', 'age': 30, 'city': 'Paris'}\n"
          ]
        }
      ]
    },
    {
      "cell_type": "markdown",
      "source": [
        "**Q27-Write a code to create a list of 5 random numbers between 1 and 100, sort it in ascending order, and print the\n",
        "result.(replaced)**"
      ],
      "metadata": {
        "id": "M4qdTQPeIJfx"
      }
    },
    {
      "cell_type": "code",
      "source": [
        "import random\n",
        "\n",
        "random_numbers = [random.randint(1, 100) for _ in range(5)]\n",
        "\n",
        "random_numbers.sort()\n",
        "\n",
        "print(\"Sorted random numbers:\", random_numbers)\n"
      ],
      "metadata": {
        "colab": {
          "base_uri": "https://localhost:8080/"
        },
        "id": "F7kWkpJCIN88",
        "outputId": "aefea6ad-6e43-424a-b00a-abc27e0b91e7"
      },
      "execution_count": null,
      "outputs": [
        {
          "output_type": "stream",
          "name": "stdout",
          "text": [
            "Sorted random numbers: [3, 6, 69, 81, 96]\n"
          ]
        }
      ]
    },
    {
      "cell_type": "markdown",
      "source": [
        "**Q28-Write a code to create a list with strings and print the element at the third index.>**"
      ],
      "metadata": {
        "id": "Sm6c5lVwITQj"
      }
    },
    {
      "cell_type": "code",
      "source": [
        "fruits = ['apple', 'banana', 'cherry', 'date', 'elderberry']\n",
        "\n",
        "print(\"Element at index 3:\", fruits[3])\n"
      ],
      "metadata": {
        "colab": {
          "base_uri": "https://localhost:8080/"
        },
        "id": "edtv6K7OIXoN",
        "outputId": "10f62432-8b4a-40a4-c13a-c41f19ff842c"
      },
      "execution_count": null,
      "outputs": [
        {
          "output_type": "stream",
          "name": "stdout",
          "text": [
            "Element at index 3: date\n"
          ]
        }
      ]
    },
    {
      "cell_type": "markdown",
      "source": [
        "**Q29-Write a code to combine two dictionaries into one and print the result.**"
      ],
      "metadata": {
        "id": "sfbSy1e1Id_y"
      }
    },
    {
      "cell_type": "code",
      "source": [
        "dict1 = {'a': 1, 'b': 2}\n",
        "dict2 = {'c': 3, 'd': 4}\n",
        "\n",
        "combined_dict = {**dict1, **dict2}\n",
        "\n",
        "print(\"Combined dictionary:\", combined_dict)"
      ],
      "metadata": {
        "colab": {
          "base_uri": "https://localhost:8080/"
        },
        "id": "oG_ObgNSIkC_",
        "outputId": "2f7c709c-acca-4620-d8f3-340709d12814"
      },
      "execution_count": null,
      "outputs": [
        {
          "output_type": "stream",
          "name": "stdout",
          "text": [
            "Combined dictionary: {'a': 1, 'b': 2, 'c': 3, 'd': 4}\n"
          ]
        }
      ]
    },
    {
      "cell_type": "markdown",
      "source": [
        "**Q30-Write a code to convert a list of strings into a set.**"
      ],
      "metadata": {
        "id": "vOKlZwc9Isze"
      }
    },
    {
      "cell_type": "code",
      "source": [
        "string_list = ['apple', 'banana', 'cherry', 'apple', 'banana']\n",
        "\n",
        "string_set = set(string_list)\n",
        "\n",
        "print(\"Set:\", string_set)"
      ],
      "metadata": {
        "colab": {
          "base_uri": "https://localhost:8080/"
        },
        "id": "is0ILszQIx_o",
        "outputId": "5686e529-1da7-4f3a-d761-99dff7c58b68"
      },
      "execution_count": null,
      "outputs": [
        {
          "output_type": "stream",
          "name": "stdout",
          "text": [
            "Set: {'apple', 'cherry', 'banana'}\n"
          ]
        }
      ]
    }
  ]
}